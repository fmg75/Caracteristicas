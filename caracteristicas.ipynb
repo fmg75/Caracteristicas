{
 "cells": [
  {
   "cell_type": "code",
   "execution_count": 12,
   "id": "610bf161",
   "metadata": {},
   "outputs": [],
   "source": [
    "from facenet_pytorch import MTCNN\n",
    "from facenet_pytorch import InceptionResnetV1\n",
    "from PIL import Image\n",
    "import pickle\n",
    "import os\n",
    "\n",
    "data_dir = './'\n",
    "model = InceptionResnetV1(pretrained='vggface2').eval()\n",
    "mtcnn = MTCNN(min_face_size = 50, keep_all = False)\n",
    "\n",
    "embeddings_list = []\n",
    "Labels = []\n",
    "img_files = os.listdir(data_dir)[:]\n",
    "for img_file in img_files:\n",
    "    img_path = os.path.join(data_dir, img_file)\n",
    "    # check the file is an image or not\n",
    "    if os.path.splitext(img_path)[1].lower() in ('.jpg', '.jpeg', '.png'):\n",
    "            img = Image.open(img_path)\n",
    "            img = img.convert(\"RGB\")\n",
    "            #save_path = os.path.join(save_dir, os.path.splitext(img_file)[0]+'.png')\n",
    "            # Obtener el nombre del archivo de la imagen actual\n",
    "            label = os.path.splitext(os.path.basename(img_path))[0]\n",
    "            face = mtcnn(img)\n",
    "            embeddings_list.append(model(face.unsqueeze(0)))\n",
    "            Labels.append(label)\n",
    "caracteristicas = dict(zip(Labels, embeddings_list))\n",
    "\n",
    "filename = \"./caracteristica_\" + str(len(caracteristicas)) + \".pkl\"\n",
    "# Serializar la variable caracteristicas y guardarla en el archivo con el nombre generado\n",
    "with open(filename, \"wb\") as f:\n",
    "    pickle.dump(caracteristicas, f)          "
   ]
  }
 ],
 "metadata": {
  "kernelspec": {
   "display_name": "dev",
   "language": "python",
   "name": "python3"
  },
  "language_info": {
   "codemirror_mode": {
    "name": "ipython",
    "version": 3
   },
   "file_extension": ".py",
   "mimetype": "text/x-python",
   "name": "python",
   "nbconvert_exporter": "python",
   "pygments_lexer": "ipython3",
   "version": "3.10.12"
  },
  "varInspector": {
   "cols": {
    "lenName": 16,
    "lenType": 16,
    "lenVar": 40
   },
   "kernels_config": {
    "python": {
     "delete_cmd_postfix": "",
     "delete_cmd_prefix": "del ",
     "library": "var_list.py",
     "varRefreshCmd": "print(var_dic_list())"
    },
    "r": {
     "delete_cmd_postfix": ") ",
     "delete_cmd_prefix": "rm(",
     "library": "var_list.r",
     "varRefreshCmd": "cat(var_dic_list()) "
    }
   },
   "types_to_exclude": [
    "module",
    "function",
    "builtin_function_or_method",
    "instance",
    "_Feature"
   ],
   "window_display": false
  },
  "vscode": {
   "interpreter": {
    "hash": "073891fde7cdd23e49ebb6c670131e3c052a791da1fa774a5919bc2926b0bbe8"
   }
  }
 },
 "nbformat": 4,
 "nbformat_minor": 5
}
