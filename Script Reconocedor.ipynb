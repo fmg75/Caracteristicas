{
 "cells": [
  {
   "cell_type": "code",
   "execution_count": null,
   "id": "014ea433",
   "metadata": {},
   "outputs": [],
   "source": [
    "import torch\n",
    "from facenet_pytorch import MTCNN ,InceptionResnetV1\n",
    "#from facenet_pytorch import InceptionResnetV1\n",
    "from PIL import Image\n",
    "import pickle\n",
    "import glob\n",
    "\n",
    "# Crear una instancia del modelo InceptionResnetV1 y MTCNN\n",
    "model = InceptionResnetV1(pretrained='vggface2').eval()\n",
    "mtcnn = MTCNN(min_face_size = 50, keep_all = False)\n",
    "# Carga las características desde el archivo por la extension .pkl\n",
    "with open(glob.glob(\"*.pkl\")[0], \"rb\") as f:\n",
    "    caracteristicas = pickle.load(f)\n",
    "\n",
    "#Funciones para calculas los embedding (Tensores carateristicos de cada imagen), Distancia euclidea ..\n",
    "def embedding(img_tensor):    \n",
    "    #image_tensor = img_tensor\n",
    "    img_embedding = model(img_tensor.unsqueeze(0))\n",
    "    return img_embedding\n",
    "\n",
    "def Distancia(caracteristicas, embedding):\n",
    "    distances = [(label, torch.dist(emb, embedding)) for label, emb in caracteristicas.items()]\n",
    "    sorted_distances = sorted(distances, key=lambda x: x[1])\n",
    "    return sorted_distances[0][0], sorted_distances[0][1].item()\n",
    "\n",
    "#carga una nueva imagen,separa el rostro y predice la etiqueta\n",
    "img = Image.open(\"./na.jpg\")\n",
    "embeddingNEW = embedding(mtcnn(img))\n",
    "result = Distancia(caracteristicas, embeddingNEW)\n",
    "print(\"Nombre reconocido: \",result[0])\n",
    "print(\"Distancia Euclidea: \",round(result[1],6))\n"
   ]
  },
  {
   "cell_type": "code",
   "execution_count": 14,
   "id": "93c578be",
   "metadata": {},
   "outputs": [
    {
     "name": "stdout",
     "output_type": "stream",
     "text": [
      "Nombre reconocido:  LUCIANA_\n",
      "Ruta:  0.0\n"
     ]
    }
   ],
   "source": [
    "import torch\n",
    "from facenet_pytorch import MTCNN ,InceptionResnetV1\n",
    "#from facenet_pytorch import InceptionResnetV1\n",
    "from PIL import Image\n",
    "import pickle\n",
    "import glob\n",
    "\n",
    "# Crear una instancia del modelo InceptionResnetV1 y MTCNN\n",
    "model = InceptionResnetV1(pretrained='vggface2').eval()\n",
    "mtcnn = MTCNN(min_face_size = 50, keep_all = False)\n",
    "# Carga las características desde el archivo por la extension .pkl\n",
    "with open(glob.glob(\"*.pkl\")[0], \"rb\") as f:\n",
    "    caracteristicas = pickle.load(f)\n",
    "\n",
    "#Funciones para calculas los embedding (Tensores carateristicos de cada imagen), Distancia euclidea ..\n",
    "def embedding(img_tensor):    \n",
    "    #image_tensor = img_tensor\n",
    "    img_embedding = model(img_tensor.unsqueeze(0))\n",
    "    return img_embedding\n",
    "\n",
    "\n",
    "def Distancia(caracteristicas, embeddingNEW):\n",
    "    distances = [\n",
    "        (label, path, torch.dist(emb, embeddingNEW))\n",
    "        for label, (path, emb) in caracteristicas.items()\n",
    "    ]\n",
    "    sorted_distances = sorted(distances, key=lambda x: x[2])\n",
    "    return sorted_distances\n",
    "        \n",
    "\n",
    "#carga una nueva imagen,separa el rostro y predice la etiqueta\n",
    "img = Image.open(\"./na.jpg\")\n",
    "embeddingNEW = embedding(mtcnn(img))\n",
    "result = Distancia(caracteristicas, embeddingNEW)\n",
    "print(\"Nombre reconocido: \",result[0][0])\n",
    "print(\"Ruta: \",result[0][2].item())\n",
    "#print(\"Distancia Euclidea: \",round(result[1],6))"
   ]
  }
 ],
 "metadata": {
  "kernelspec": {
   "display_name": "dev",
   "language": "python",
   "name": "python3"
  },
  "language_info": {
   "codemirror_mode": {
    "name": "ipython",
    "version": 3
   },
   "file_extension": ".py",
   "mimetype": "text/x-python",
   "name": "python",
   "nbconvert_exporter": "python",
   "pygments_lexer": "ipython3",
   "version": "3.10.13"
  },
  "varInspector": {
   "cols": {
    "lenName": 16,
    "lenType": 16,
    "lenVar": 40
   },
   "kernels_config": {
    "python": {
     "delete_cmd_postfix": "",
     "delete_cmd_prefix": "del ",
     "library": "var_list.py",
     "varRefreshCmd": "print(var_dic_list())"
    },
    "r": {
     "delete_cmd_postfix": ") ",
     "delete_cmd_prefix": "rm(",
     "library": "var_list.r",
     "varRefreshCmd": "cat(var_dic_list()) "
    }
   },
   "types_to_exclude": [
    "module",
    "function",
    "builtin_function_or_method",
    "instance",
    "_Feature"
   ],
   "window_display": false
  },
  "vscode": {
   "interpreter": {
    "hash": "073891fde7cdd23e49ebb6c670131e3c052a791da1fa774a5919bc2926b0bbe8"
   }
  }
 },
 "nbformat": 4,
 "nbformat_minor": 5
}
